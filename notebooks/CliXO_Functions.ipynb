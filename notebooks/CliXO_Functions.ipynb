{
 "cells": [
  {
   "cell_type": "code",
   "execution_count": 2,
   "metadata": {},
   "outputs": [],
   "source": [
    "import pandas as pd\n",
    "import subprocess\n",
    "import os"
   ]
  },
  {
   "cell_type": "code",
   "execution_count": 5,
   "metadata": {},
   "outputs": [],
   "source": [
    "path = os.path.dirname(os.getcwd()) + '/data/' # path to data directory within github synapse repo\n",
    "CXE = os.path.dirname(os.getcwd()) + '/resources/CliXO/clixo' # path to CliXO executable within github synapse repo"
   ]
  },
  {
   "cell_type": "code",
   "execution_count": 13,
   "metadata": {},
   "outputs": [],
   "source": [
    "def ProcessCliXO(inputNetworkFileName, inputNetworkPathName = path,scaling = False, absolute = True, writeFile = True):\n",
    "    \"\"\"input tab separated adjacency list, output csv file named pCX_<input_file_name> with weights > 0 \n",
    "    if absolute is True and abs(weights) < 1 if scaling is True in adjacency list format that CliXO can take as\n",
    "    input\"\"\"\n",
    "    DF = pd.read_csv(inputNetworkPathName+inputNetworkFileName, sep=\"\\t\",header=None)\n",
    "\n",
    "    # convert scores to float\n",
    "    if DF[2].dtype != 'float64':\n",
    "        DF[2] = pd.to_numeric(DF[2])\n",
    "\n",
    "    # various processing of scores (especially for negative values)\n",
    "    if absolute == True and scaling == False:\n",
    "        DF[2] = DF[2].abs()\n",
    "\n",
    "    elif scaling == True and absolute == True:\n",
    "        DF[2] = (DF[2]-DF[2].min())/(DF[2].max()-DF[2].min())\n",
    "\n",
    "    elif scaling == True and  absolute == False:\n",
    "        DF[2] = (2*((DF[2]-DF[2].min())/(DF[2].max()-DF[2].min())))-1\n",
    "\n",
    "    outputFileName = 'pCX_' + inputNetworkFileName\n",
    "\n",
    "    if writeFile == True:\n",
    "        DF.to_csv(path_or_buf = inputNetworkPathName+outputFileName, sep='\\t', index=False, header=False)\n",
    "\n",
    "    return outputFileName"
   ]
  },
  {
   "cell_type": "code",
   "execution_count": 28,
   "metadata": {},
   "outputs": [],
   "source": [
    "def RunCliXO(CliXOadjList_, a_ = 0.01,b_ = 0.5, M_ = 0.0001,z_ = 0.05, \n",
    "             CliXOExecutable = CXE, pathName = path):\n",
    "    \n",
    "    \"\"\"Takes formatted adjacency list as input from path (pathName), \n",
    "    runs clixo with provided alpha, beta, M and Z parameters, and outputs the ontology to the path with file\n",
    "    name of RUN_<inputefilename>_ONT with no extension\"\"\"\n",
    "    \n",
    "    CliXOOutput_ = 'RUN_' + CliXOadjList_[:-4]\n",
    "    CliXOoutputONT_ = CliXOOutput_ + 'ONT'\n",
    "\n",
    "    subprocess.call('{} -i {} -a {} [-b {}] [-M {}] [-z {}] > {}'.format(CliXOExecutable,pathName+CliXOadjList_,a_,b_,M_,z_,pathName+CliXOOutput_),shell = True)\n",
    "    subprocess.call(\"grep -v '#' {} > {}\".format(pathName+CliXOOutput_,pathName + CliXOoutputONT_),shell=True)\n",
    "    \n",
    "    \n",
    "    "
   ]
  },
  {
   "cell_type": "code",
   "execution_count": 32,
   "metadata": {},
   "outputs": [],
   "source": [
    "def CliXO_Parser(fileName, pathName = path):\n",
    "    \"\"\"This should probably be double checked, I haven't looked at it in a while. Should take your output ONT file from \n",
    "    RunCliXO function and return lists that can directly be formatted into a ddot ont object. See CliXO_Workflow script\n",
    "    to get a better sense\"\"\"\n",
    "    DF = pd.read_table(pathName+fileName, names = ['parent','child','category','score'])\n",
    "    DF_hierarchy = DF[DF['category'] != 'gene']\n",
    "    DF_hierarchy['parent'] = DF_hierarchy['parent'].astype(str)\n",
    "    parent_hierarchy = DF_hierarchy['parent'].tolist()\n",
    "    child_hierarchy = DF_hierarchy['child'].tolist()\n",
    "    hierarchy = list(zip(child_hierarchy,parent_hierarchy))\n",
    "\n",
    "    DF_mapping = DF[DF['category'] == 'gene']\n",
    "    DF_mapping['parent'] = DF_mapping['parent'].astype(str)\n",
    "    parent_mapping = DF_mapping['parent'].tolist()\n",
    "    child_mapping = DF_mapping['child'].tolist()\n",
    "    mapping = list(zip(child_mapping,parent_mapping))\n",
    "\n",
    "    return hierarchy,mapping"
   ]
  }
 ],
 "metadata": {
  "kernelspec": {
   "display_name": "HBPy3",
   "language": "python",
   "name": "base"
  },
  "language_info": {
   "codemirror_mode": {
    "name": "ipython",
    "version": 3
   },
   "file_extension": ".py",
   "mimetype": "text/x-python",
   "name": "python",
   "nbconvert_exporter": "python",
   "pygments_lexer": "ipython3",
   "version": "3.7.1"
  }
 },
 "nbformat": 4,
 "nbformat_minor": 2
}
