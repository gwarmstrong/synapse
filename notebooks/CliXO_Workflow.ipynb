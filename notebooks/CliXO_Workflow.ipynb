{
 "cells": [
  {
   "cell_type": "markdown",
   "metadata": {},
   "source": [
    "A quick tutorial of how these scripts should run\n",
    "\n",
    "CliXO Parameters as suggested by Yue\n",
    "alpha = between 0.01 and 0.1\n",
    "\n",
    "beta = between 0.5 and 0.7\n",
    "\n",
    "M = 0.0001 and up a bit\n",
    "\n",
    "Z = 0.05 to 0.1"
   ]
  },
  {
   "cell_type": "code",
   "execution_count": 1,
   "metadata": {},
   "outputs": [],
   "source": [
    "import CliXO_Functions as CX\n",
    "from ddot import Ontology\n",
    "from pathlib import Path\n",
    "import os"
   ]
  },
  {
   "cell_type": "markdown",
   "metadata": {},
   "source": [
    "Input file is tab separated adjacency list with edge weights as final column"
   ]
  },
  {
   "cell_type": "code",
   "execution_count": 2,
   "metadata": {},
   "outputs": [],
   "source": [
    "# path = os.path.dirname(os.getcwd()) + '/data/' # path to network file\n",
    "file = 'EXAMPLE.txt'\n",
    "# print(path)"
   ]
  },
  {
   "cell_type": "markdown",
   "metadata": {},
   "source": [
    "If the edge weights are not greater than 0"
   ]
  },
  {
   "cell_type": "code",
   "execution_count": 3,
   "metadata": {},
   "outputs": [],
   "source": [
    "CX_File = CX.ProcessCliXO(file)"
   ]
  },
  {
   "cell_type": "markdown",
   "metadata": {},
   "source": [
    "Run CliXO"
   ]
  },
  {
   "cell_type": "code",
   "execution_count": 4,
   "metadata": {},
   "outputs": [],
   "source": [
    "CX.RunCliXO(CX_File, a_ = 0.01,b_ = 0.5, M_ = 0.0001,z_ = 0.05)"
   ]
  },
  {
   "cell_type": "markdown",
   "metadata": {},
   "source": [
    "DDOT Ont object"
   ]
  },
  {
   "cell_type": "code",
   "execution_count": 6,
   "metadata": {},
   "outputs": [],
   "source": [
    "CX_ONT = 'RUN_' + CX_File[0:-4] + 'ONT'"
   ]
  },
  {
   "cell_type": "code",
   "execution_count": 8,
   "metadata": {},
   "outputs": [
    {
     "name": "stderr",
     "output_type": "stream",
     "text": [
      "/data/cellardata/users/hmbaghdassarian/Network_Comparison/Synapse_Final/synapse/notebooks/CliXO_Functions.py:77: SettingWithCopyWarning: \n",
      "A value is trying to be set on a copy of a slice from a DataFrame.\n",
      "Try using .loc[row_indexer,col_indexer] = value instead\n",
      "\n",
      "See the caveats in the documentation: http://pandas.pydata.org/pandas-docs/stable/indexing.html#indexing-view-versus-copy\n",
      "  DF_hierarchy['parent'] = DF_hierarchy['parent'].astype(str)\n",
      "/data/cellardata/users/hmbaghdassarian/Network_Comparison/Synapse_Final/synapse/notebooks/CliXO_Functions.py:83: SettingWithCopyWarning: \n",
      "A value is trying to be set on a copy of a slice from a DataFrame.\n",
      "Try using .loc[row_indexer,col_indexer] = value instead\n",
      "\n",
      "See the caveats in the documentation: http://pandas.pydata.org/pandas-docs/stable/indexing.html#indexing-view-versus-copy\n",
      "  DF_mapping['parent'] = DF_mapping['parent'].astype(str)\n"
     ]
    }
   ],
   "source": [
    "hierarchy,mapping = CX.CliXO_Parser(CX_ONT)\n",
    "ont = Ontology(hierarchy, mapping, ignore_orphan_terms=True)"
   ]
  }
 ],
 "metadata": {
  "kernelspec": {
   "display_name": "HBPy3",
   "language": "python",
   "name": "base"
  },
  "language_info": {
   "codemirror_mode": {
    "name": "ipython",
    "version": 3
   },
   "file_extension": ".py",
   "mimetype": "text/x-python",
   "name": "python",
   "nbconvert_exporter": "python",
   "pygments_lexer": "ipython3",
   "version": "3.7.1"
  }
 },
 "nbformat": 4,
 "nbformat_minor": 2
}
