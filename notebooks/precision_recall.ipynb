{
 "cells": [
  {
   "cell_type": "code",
   "execution_count": 1,
   "metadata": {},
   "outputs": [],
   "source": [
    "from pathlib import Path\n",
    "import os\n",
    "import pickle\n",
    "from tqdm import trange\n",
    "import timeit as timeit\n",
    "\n",
    "import CliXO_Functions as CX\n",
    "from ddot import Ontology\n",
    "import ddot\n",
    "\n",
    "import pandas as pd"
   ]
  },
  {
   "cell_type": "code",
   "execution_count": 20,
   "metadata": {},
   "outputs": [],
   "source": [
    "def precision_recall(ont_I, ont_G):\n",
    "    \"\"\"Return the precision and recall as defined by CliXO paper given ontology objects of inteferred ontology ont_I\n",
    "    (CliXO) and gold standard ontology ont_G (GO)\"\"\"\n",
    "    \n",
    "    ALN = ont_I.align(ont_G)\n",
    "    ALN = ALN[(ALN['FDR']<0.05)&(ALN['Similarity']>=0.1)]\n",
    "    \n",
    "    A = ALN.shape[0]\n",
    "    I = len(set(ont_I.terms))\n",
    "    G = len(set(ont_G.terms))\n",
    "    \n",
    "    precision = (A/I)\n",
    "    recall = (A/G)\n",
    "    \n",
    "    return precision, recall"
   ]
  },
  {
   "cell_type": "code",
   "execution_count": 2,
   "metadata": {},
   "outputs": [],
   "source": [
    "path = os.path.dirname(os.getcwd()) + '/data/' # path to data\n",
    "scores = pd.read_csv(path + 'similarity_score_predictions_draft_1.csv', header = None)"
   ]
  },
  {
   "cell_type": "code",
   "execution_count": 3,
   "metadata": {},
   "outputs": [],
   "source": [
    "# Remove self edges (CliXO probably can't handle)\n",
    "index = scores[scores[0] != scores[1]].index\n",
    "scores = scores.loc[index,:]\n",
    "scores.reset_index(inplace = True, drop = True)\n",
    "\n",
    "# Generate tab separated adjacency list text file that can be run through CliXO\n",
    "scores.to_csv(path_or_buf = path+'pCX_similarity_score_predictions_draft_1.txt', \n",
    "              sep='\\t', index=False, header=False)\n",
    "    "
   ]
  },
  {
   "cell_type": "code",
   "execution_count": 5,
   "metadata": {},
   "outputs": [],
   "source": [
    "# Load GO Synapse ontology object\n",
    "with open(path + \"GO_synapse_ddot_object.pickle\", \"rb\") as f:\n",
    "    ontGO_synapse = pickle.load(f)\n",
    "\n",
    "# Assign tab separated adjacency list text file name to variable CX_File, \n",
    "# assign ONT file name that will be generated after running CliXO to variable CX_ONT\n",
    "CX_File = 'pCX_similarity_score_predictions_draft_1.txt'\n",
    "CX_ONT = 'RUN_' + CX_File[0:-4] + 'ONT'"
   ]
  },
  {
   "cell_type": "code",
   "execution_count": 7,
   "metadata": {},
   "outputs": [],
   "source": [
    "pc = pd.DataFrame(columns=['alpha', 'precision', 'recall'])\n",
    "index = 0\n",
    "\n",
    "alphas = [0.5,1,0.05,2,1.5,3,0.2]\n",
    "\n",
    "for alpha in alphas:\n",
    "    try:\n",
    "        # run CliXO with specified alpha\n",
    "        CX.RunCliXO(CX_File, a_ = alpha,b_ = 0.5, M_ = 0.0001,z_ = 0.05)\n",
    "        t1 = timeit.default_timer()\n",
    "        print('time: {:.1f}'.format(t1-t0))\n",
    "\n",
    "        # generate ontology object from generated CliXO ontology\n",
    "        hierarchy,mapping = CX.CliXO_Parser(CX_ONT)\n",
    "        ontCX_synapse = Ontology(hierarchy, mapping, ignore_orphan_terms=True)\n",
    "\n",
    "        # calculate precision recall and \n",
    "        precision, recall = precision_recall(ontCX_synapse, ontGO_synapse)\n",
    "        row = [alpha, precision, recall]\n",
    "        pc.loc[index, :] = row\n",
    "        pc.to_csv(path + 'precision_recall_draft_1.csv', sep = '\\t')\n",
    "        index += 1\n",
    "    except:\n",
    "        pass"
   ]
  }
 ],
 "metadata": {
  "kernelspec": {
   "display_name": "HBPy3",
   "language": "python",
   "name": "base"
  },
  "language_info": {
   "codemirror_mode": {
    "name": "ipython",
    "version": 3
   },
   "file_extension": ".py",
   "mimetype": "text/x-python",
   "name": "python",
   "nbconvert_exporter": "python",
   "pygments_lexer": "ipython3",
   "version": "3.7.1"
  }
 },
 "nbformat": 4,
 "nbformat_minor": 2
}
