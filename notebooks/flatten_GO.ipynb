{
 "cells": [
  {
   "cell_type": "code",
   "execution_count": 4,
   "metadata": {},
   "outputs": [],
   "source": [
    "import CliXO_Functions as CX\n",
    "\n",
    "import pickle\n",
    "import requests\n",
    "import gzip\n",
    "import os\n",
    "\n",
    "import ddot\n",
    "from ddot import Ontology\n",
    "\n",
    "import numpy as np\n",
    "import pandas as pd\n",
    "\n",
    "import timeit as timeit"
   ]
  },
  {
   "cell_type": "code",
   "execution_count": 5,
   "metadata": {},
   "outputs": [],
   "source": [
    "path = os.path.dirname(os.getcwd()) + '/data/' # path to data directory in github synapse repo"
   ]
  },
  {
   "cell_type": "code",
   "execution_count": 7,
   "metadata": {},
   "outputs": [
    {
     "name": "stderr",
     "output_type": "stream",
     "text": [
      "/cellar/users/hmbaghdassarian/Software/anaconda3/lib/python3.7/site-packages/IPython/core/interactiveshell.py:3185: DtypeWarning: Columns (15) have mixed types. Specify dtype option on import or set low_memory=False.\n",
      "  if (yield from self.run_code(code, result)):\n"
     ]
    },
    {
     "name": "stdout",
     "output_type": "stream",
     "text": [
      "WARNING: Dropping 197145 duplicate gene-term connections\n",
      "Unifying 3 roots into one super-root\n",
      "collapse command: /cellar/users/hmbaghdassarian/Software/anaconda3/lib/python3.7/site-packages/ddot/alignOntology/collapseRedundantNodes /tmp/tmpetole2rw\n"
     ]
    }
   ],
   "source": [
    "# # Download GO obo file\n",
    "r = requests.get('http://purl.obolibrary.org/obo/go/go-basic.obo')\n",
    "# can download smaller obo in future for benchmark\n",
    "\n",
    "with open(path+'GO_all.obo', 'wb') as f:\n",
    "    f.write(r.content)\n",
    "\n",
    "# Parse OBO file\n",
    "ddot.parse_obo(path+'GO_all.obo', 'go.tab', 'goID_2_name.tab', 'goID_2_namespace.tab', 'goID_2_alt_id.tab')\n",
    "\n",
    "# Download gene-term annotations for human\n",
    "r = requests.get('http://geneontology.org/gene-associations/goa_human.gaf.gz')\n",
    "with open(path + 'goa_human.gaf.gz', 'wb') as f:\n",
    "    f.write(r.content)\n",
    "    \n",
    "hierarchy = pd.read_table('go.tab',\n",
    "                          sep='\\t',\n",
    "                          header=None,\n",
    "                          names=['Parent', 'Child', 'Relation', 'Namespace'])\n",
    "with gzip.open(path + 'goa_human.gaf.gz', 'rb') as f:\n",
    "    mapping = ddot.parse_gaf(f)\n",
    "\n",
    "ontGO = Ontology.from_table(\n",
    "    table=hierarchy,\n",
    "    parent='Parent',\n",
    "    child='Child',\n",
    "    mapping=mapping,\n",
    "    mapping_child='DB Object ID',\n",
    "    mapping_parent='GO ID',\n",
    "    add_root_name='GO:00SUPER',\n",
    "    ignore_orphan_terms=True)\n",
    "ontGO.clear_node_attr()\n",
    "ontGO.clear_edge_attr()\n",
    "\n",
    "go_descriptions = pd.read_table('goID_2_name.tab',\n",
    "                                header=None,\n",
    "                                names=['Term', 'Term_Description'],\n",
    "                                index_col=0)\n",
    "ontGO.update_node_attr(go_descriptions)\n",
    "\n",
    "ontGO = ontGO.collapse_ontology(method='mhkramer')\n",
    "\n",
    "if 'GO:00SUPER' not in ontGO.terms: ontGO.add_root('GO:00SUPER', inplace=True)\n",
    "\n",
    "\n",
    "go_branches = pd.read_table('goID_2_namespace.tab',\n",
    "                                header=None,\n",
    "                                names=['Term', 'Branch'],\n",
    "                                index_col=0)\n",
    "ontGO.update_node_attr(go_branches)"
   ]
  },
  {
   "cell_type": "code",
   "execution_count": 8,
   "metadata": {},
   "outputs": [
    {
     "name": "stdout",
     "output_type": "stream",
     "text": [
      "Genes and Terms to keep: 1286\n"
     ]
    }
   ],
   "source": [
    "# retrive all children of GO term 0055202\n",
    "ontGO_synapse = ontGO.focus(branches = ['GO:0045202'])\n",
    "# flatten hierarchy\n",
    "sim_score,gene_name = ontGO_synapse.flatten()\n",
    "\n",
    "\n",
    "# Create adjacency matrix, adjacency list, and ddot ont object pickle\n",
    "\n",
    "# ddot pickle\n",
    "with open(path + 'GO_synapse_ddot_object.pickle', 'wb') as f:\n",
    "    pickle.dump(ontGO_synapse, f)\n",
    "\n",
    "# adjacency matrix\n",
    "synapse_semantic = pd.DataFrame(columns = gene_name, index = gene_name, data = sim_score)\n",
    "synapse_semantic.to_csv(path + 'GO_synapse_semantic_similarity_matrix.csv')\n",
    "\n",
    "# adjacency list\n",
    "with open(path + 'GO_synapse_semantic_similarity_list.txt', 'w') as f:\n",
    "    for row in range((sim_score.shape[0])):\n",
    "        for column in range((sim_score.shape[1])):\n",
    "            if column > row:\n",
    "                f.write(gene_name[column] + '\\t' + gene_name[row] + '\\t' + str(sim_score[row,column]) + '\\n')"
   ]
  },
  {
   "cell_type": "code",
   "execution_count": 9,
   "metadata": {},
   "outputs": [
    {
     "name": "stdout",
     "output_type": "stream",
     "text": [
      "time: 6.0\n"
     ]
    }
   ],
   "source": [
    "# Run CliXO on flattened hierarchy and time \n",
    "CX_File = 'GO_synapse_semantic_similarity_list.txt'\n",
    "\n",
    "t0 = timeit.default_timer()\n",
    "CX.RunCliXO(CX_File, a_ = 0.01,b_ = 0.5, M_ = 0.0001,z_ = 0.05)\n",
    "t1 = timeit.default_timer()\n",
    "print('time: {:.1f}'.format(t1-t0))"
   ]
  },
  {
   "cell_type": "code",
   "execution_count": 14,
   "metadata": {},
   "outputs": [],
   "source": [
    "# create ontology object from CliXO (useless for recreated, but similar code can be used in future for \n",
    "# creating an ontology object from CliXO output on real data)\n",
    "CX_ONT = 'RUN_' + CX_File[0:-4] + 'ONT'\n",
    "hierarchy,mapping = CX.CliXO_Parser(CX_ONT)\n",
    "ont_CX = Ontology(hierarchy, mapping, ignore_orphan_terms=True)"
   ]
  }
 ],
 "metadata": {
  "kernelspec": {
   "display_name": "HBPy3",
   "language": "python",
   "name": "base"
  },
  "language_info": {
   "codemirror_mode": {
    "name": "ipython",
    "version": 3
   },
   "file_extension": ".py",
   "mimetype": "text/x-python",
   "name": "python",
   "nbconvert_exporter": "python",
   "pygments_lexer": "ipython3",
   "version": "3.7.1"
  }
 },
 "nbformat": 4,
 "nbformat_minor": 2
}
